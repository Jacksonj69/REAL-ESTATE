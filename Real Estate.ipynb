{
 "cells": [
  {
   "cell_type": "code",
   "execution_count": 1,
   "id": "1a8c9d72",
   "metadata": {},
   "outputs": [],
   "source": [
    "import pandas as pd\n",
    "import numpy as np\n",
    "import matplotlib.pyplot as plt"
   ]
  },
  {
   "cell_type": "code",
   "execution_count": 4,
   "id": "ae29c0eb",
   "metadata": {},
   "outputs": [],
   "source": [
    "#with a budget of $50,000 the desired property price is around $340,000. To maintain a decent profit in the long term, we will choose all properties that fit our budget over $300,000.\n",
    "Budget = 50000\n",
    "FitProperty_Price = 340000"
   ]
  },
  {
   "cell_type": "code",
   "execution_count": 5,
   "id": "47f0987b",
   "metadata": {},
   "outputs": [
    {
     "data": {
      "text/html": [
       "<div>\n",
       "<style scoped>\n",
       "    .dataframe tbody tr th:only-of-type {\n",
       "        vertical-align: middle;\n",
       "    }\n",
       "\n",
       "    .dataframe tbody tr th {\n",
       "        vertical-align: top;\n",
       "    }\n",
       "\n",
       "    .dataframe thead th {\n",
       "        text-align: right;\n",
       "    }\n",
       "</style>\n",
       "<table border=\"1\" class=\"dataframe\">\n",
       "  <thead>\n",
       "    <tr style=\"text-align: right;\">\n",
       "      <th></th>\n",
       "      <th>City and State</th>\n",
       "      <th>Traditional Cap Rate</th>\n",
       "      <th>Traditional Rental Income</th>\n",
       "      <th>Median Property Price</th>\n",
       "      <th>Price to Rent Ratio</th>\n",
       "    </tr>\n",
       "  </thead>\n",
       "  <tbody>\n",
       "    <tr>\n",
       "      <th>0</th>\n",
       "      <td>Baltimore, MD</td>\n",
       "      <td>0.0416</td>\n",
       "      <td>1669</td>\n",
       "      <td>306956</td>\n",
       "      <td>15</td>\n",
       "    </tr>\n",
       "    <tr>\n",
       "      <th>1</th>\n",
       "      <td>Detroit, MI</td>\n",
       "      <td>0.0412</td>\n",
       "      <td>990</td>\n",
       "      <td>180999</td>\n",
       "      <td>15</td>\n",
       "    </tr>\n",
       "    <tr>\n",
       "      <th>2</th>\n",
       "      <td>Buffalo, BY</td>\n",
       "      <td>0.0390</td>\n",
       "      <td>1043</td>\n",
       "      <td>200985</td>\n",
       "      <td>16</td>\n",
       "    </tr>\n",
       "    <tr>\n",
       "      <th>3</th>\n",
       "      <td>Aurora, IL</td>\n",
       "      <td>0.0384</td>\n",
       "      <td>1555</td>\n",
       "      <td>222397</td>\n",
       "      <td>12</td>\n",
       "    </tr>\n",
       "    <tr>\n",
       "      <th>4</th>\n",
       "      <td>Akron, OH</td>\n",
       "      <td>0.0382</td>\n",
       "      <td>828</td>\n",
       "      <td>150381</td>\n",
       "      <td>15</td>\n",
       "    </tr>\n",
       "  </tbody>\n",
       "</table>\n",
       "</div>"
      ],
      "text/plain": [
       "  City and State  Traditional Cap Rate  Traditional Rental Income  \\\n",
       "0  Baltimore, MD                0.0416                       1669   \n",
       "1    Detroit, MI                0.0412                        990   \n",
       "2    Buffalo, BY                0.0390                       1043   \n",
       "3     Aurora, IL                0.0384                       1555   \n",
       "4      Akron, OH                0.0382                        828   \n",
       "\n",
       "   Median Property Price  Price to Rent Ratio  \n",
       "0                 306956                   15  \n",
       "1                 180999                   15  \n",
       "2                 200985                   16  \n",
       "3                 222397                   12  \n",
       "4                 150381                   15  "
      ]
     },
     "execution_count": 5,
     "metadata": {},
     "output_type": "execute_result"
    }
   ],
   "source": [
    "#The following dataset shows the chosen cities and states that contain important Real Estate investment statistics.\n",
    "Prices = pd.read_csv(r\"C:\\Users\\aldan\\OneDrive\\Documents\\PYTHON PROJECTS\\Real Estate\\USHOUSINGDATA.csv\")\n",
    "Prices.head()"
   ]
  }
 ],
 "metadata": {
  "kernelspec": {
   "display_name": "Python 3 (ipykernel)",
   "language": "python",
   "name": "python3"
  },
  "language_info": {
   "codemirror_mode": {
    "name": "ipython",
    "version": 3
   },
   "file_extension": ".py",
   "mimetype": "text/x-python",
   "name": "python",
   "nbconvert_exporter": "python",
   "pygments_lexer": "ipython3",
   "version": "3.9.12"
  }
 },
 "nbformat": 4,
 "nbformat_minor": 5
}
